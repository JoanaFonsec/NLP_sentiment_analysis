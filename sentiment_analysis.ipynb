{
 "cells": [
  {
   "cell_type": "code",
   "execution_count": null,
   "metadata": {},
   "outputs": [],
   "source": [
    "from utils import get_data\n",
    "\n",
    "xtrain, xvalid, ytrain, yvalid, BART_acc = get_data('data/twitter_dataset_small_w_bart_preds.csv',random_state=2)\n",
    "\n",
    "print('BART accuracy: ', BART_acc)"
   ]
  },
  {
   "cell_type": "code",
   "execution_count": null,
   "metadata": {},
   "outputs": [],
   "source": [
    "from lstm_nn import LSTM_NN\n",
    "\n",
    "neural = LSTM_NN()\n",
    "ans = neural.performance(xtrain, xvalid, ytrain, yvalid)\n",
    "\n",
    "print('Neural Network accuracy: ', ans)"
   ]
  },
  {
   "cell_type": "code",
   "execution_count": null,
   "metadata": {},
   "outputs": [],
   "source": [
    "from naive_bayes import NaiveBayes\n",
    "\n",
    "naive = NaiveBayes()\n",
    "ans = naive.performance(xtrain, xvalid, ytrain, yvalid)\n",
    "\n",
    "print('Naive Bayes accuracy: ', ans)"
   ]
  },
  {
   "cell_type": "code",
   "execution_count": null,
   "metadata": {},
   "outputs": [],
   "source": [
    "from k_nearest_neighbors import KNearestNeighbors\n",
    "\n",
    "knn = KNearestNeighbors()\n",
    "ans = knn.performance(xtrain, xvalid, ytrain, yvalid)\n",
    "\n",
    "print('K-Nearest Neighbors accuracy: ', ans)"
   ]
  },
  {
   "cell_type": "markdown",
   "metadata": {},
   "source": [
    "Note: The following plots were created with hand-written data for the purpose of a offering a preview.\n",
    "All accuracy values can be generated according to the provided random_state key."
   ]
  },
  {
   "cell_type": "code",
   "execution_count": null,
   "metadata": {},
   "outputs": [],
   "source": [
    "from utils import plot_stuff\n",
    "\n",
    "# random_state = 42 5 200 2 90\n",
    "BART = [0.7076666666666667, 0.7035, 0.7191666666666666, 0.708, 0.7123333333333334] \n",
    "myNN = [0.7228333353996277, 0.731333315372467, 0.7388333082199097, 0.7179999947547913, 0.7351666688919067] \n",
    "Bayes = [0.7286666666666667, 0.7241666666666666, 0.7275, 0.7148333333333333, 0.7216666666666667]\n",
    "KNN = [0.6733067729083665,0.6718455221396071,0.6615126050420168,0.6713921807509137,0.673425706882956]\n",
    "\n",
    "plot_stuff(BART, myNN, Bayes, KNN)"
   ]
  }
 ],
 "metadata": {
  "kernelspec": {
   "display_name": "Python 3",
   "language": "python",
   "name": "python3"
  },
  "language_info": {
   "codemirror_mode": {
    "name": "ipython",
    "version": 3
   },
   "file_extension": ".py",
   "mimetype": "text/x-python",
   "name": "python",
   "nbconvert_exporter": "python",
   "pygments_lexer": "ipython3",
   "version": "3.9.6"
  }
 },
 "nbformat": 4,
 "nbformat_minor": 2
}
