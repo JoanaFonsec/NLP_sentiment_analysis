{
 "cells": [
  {
   "cell_type": "code",
   "execution_count": 15,
   "metadata": {},
   "outputs": [],
   "source": [
    "import torch\n",
    "from transformers import BartForSequenceClassification, BartTokenizer\n",
    "\n",
    "DEVICE = \"cuda:0\" if torch.cuda.is_available() else \"cpu\"\n",
    "\n",
    "\n",
    "class BartZeroShot:\n",
    "    def __init__(self):\n",
    "        self.nli_model = BartForSequenceClassification.from_pretrained(\n",
    "            \"facebook/bart-large-mnli\"\n",
    "        )\n",
    "        self.tokenizer = BartTokenizer.from_pretrained(\"facebook/bart-large-mnli\")\n",
    "\n",
    "    def predict(self, sentence, label):\n",
    "        x = self.tokenizer.encode(\n",
    "            sentence,\n",
    "            f\"This example is {label}\",\n",
    "            return_tensors=\"pt\",\n",
    "            truncation=\"only_first\",\n",
    "        )\n",
    "        logits = self.nli_model(x.to(DEVICE))[0]\n",
    "\n",
    "        entail_contradiction_logits = logits[:, [0, 2]]\n",
    "        probs = entail_contradiction_logits.softmax(1)\n",
    "        prob_label_is_true = probs[:, 1].item()\n",
    "        return prob_label_is_true"
   ]
  },
  {
   "cell_type": "code",
   "execution_count": 16,
   "metadata": {},
   "outputs": [],
   "source": [
    "bz = BartZeroShot()"
   ]
  },
  {
   "cell_type": "code",
   "execution_count": 17,
   "metadata": {},
   "outputs": [
    {
     "data": {
      "text/plain": [
       "0.9990523457527161"
      ]
     },
     "execution_count": 17,
     "metadata": {},
     "output_type": "execute_result"
    }
   ],
   "source": [
    "bz.predict(\"I really really hate my life\", \"positive\")"
   ]
  },
  {
   "cell_type": "code",
   "execution_count": 18,
   "metadata": {},
   "outputs": [
    {
     "data": {
      "text/plain": [
       "0.026917167007923126"
      ]
     },
     "execution_count": 18,
     "metadata": {},
     "output_type": "execute_result"
    }
   ],
   "source": [
    "bz.predict(\"I really really love my life\", \"positive\")"
   ]
  }
 ],
 "metadata": {
  "kernelspec": {
   "display_name": "Python 3",
   "language": "python",
   "name": "python3"
  },
  "language_info": {
   "codemirror_mode": {
    "name": "ipython",
    "version": 3
   },
   "file_extension": ".py",
   "mimetype": "text/x-python",
   "name": "python",
   "nbconvert_exporter": "python",
   "pygments_lexer": "ipython3",
   "version": "3.9.6"
  }
 },
 "nbformat": 4,
 "nbformat_minor": 4
}
